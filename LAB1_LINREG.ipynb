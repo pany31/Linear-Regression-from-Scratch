{
 "cells": [
  {
   "cell_type": "code",
   "execution_count": 107,
   "metadata": {
    "id": "aAwES19QjKMP"
   },
   "outputs": [],
   "source": [
    "import math\n",
    "import numpy as np\n",
    "import pandas as pd\n",
    "from sklearn.model_selection import train_test_split\n",
    "import seaborn as ns\n",
    "from tqdm import tqdm\n",
    "import matplotlib.pyplot as plt\n",
    "import random"
   ]
  },
  {
   "cell_type": "code",
   "execution_count": 108,
   "metadata": {
    "id": "2zrIm6S3mmoo"
   },
   "outputs": [],
   "source": [
    "#df = pd.read_csv(\"housing.csv\")\n",
    "#df = pd.read_csv(\"concreteData.csv\")\n",
    "df = pd.read_csv(\"yachtData.csv\")"
   ]
  },
  {
   "cell_type": "code",
   "execution_count": 109,
   "metadata": {
    "id": "GdKR_y5jm3ze"
   },
   "outputs": [
    {
     "data": {
      "text/html": [
       "<div>\n",
       "<style scoped>\n",
       "    .dataframe tbody tr th:only-of-type {\n",
       "        vertical-align: middle;\n",
       "    }\n",
       "\n",
       "    .dataframe tbody tr th {\n",
       "        vertical-align: top;\n",
       "    }\n",
       "\n",
       "    .dataframe thead th {\n",
       "        text-align: right;\n",
       "    }\n",
       "</style>\n",
       "<table border=\"1\" class=\"dataframe\">\n",
       "  <thead>\n",
       "    <tr style=\"text-align: right;\">\n",
       "      <th></th>\n",
       "      <th>-2.3</th>\n",
       "      <th>0.568</th>\n",
       "      <th>4.78</th>\n",
       "      <th>3.99</th>\n",
       "      <th>3.17</th>\n",
       "      <th>0.125</th>\n",
       "      <th>0.11</th>\n",
       "    </tr>\n",
       "  </thead>\n",
       "  <tbody>\n",
       "    <tr>\n",
       "      <td>count</td>\n",
       "      <td>307.000000</td>\n",
       "      <td>307.000000</td>\n",
       "      <td>307.000000</td>\n",
       "      <td>307.000000</td>\n",
       "      <td>307.000000</td>\n",
       "      <td>307.000000</td>\n",
       "      <td>307.000000</td>\n",
       "    </tr>\n",
       "    <tr>\n",
       "      <td>mean</td>\n",
       "      <td>-2.382085</td>\n",
       "      <td>0.564124</td>\n",
       "      <td>4.788664</td>\n",
       "      <td>3.936645</td>\n",
       "      <td>3.206938</td>\n",
       "      <td>0.288029</td>\n",
       "      <td>10.529186</td>\n",
       "    </tr>\n",
       "    <tr>\n",
       "      <td>std</td>\n",
       "      <td>1.515682</td>\n",
       "      <td>0.023327</td>\n",
       "      <td>0.253470</td>\n",
       "      <td>0.549080</td>\n",
       "      <td>0.248394</td>\n",
       "      <td>0.100678</td>\n",
       "      <td>15.173594</td>\n",
       "    </tr>\n",
       "    <tr>\n",
       "      <td>min</td>\n",
       "      <td>-5.000000</td>\n",
       "      <td>0.530000</td>\n",
       "      <td>4.340000</td>\n",
       "      <td>2.810000</td>\n",
       "      <td>2.730000</td>\n",
       "      <td>0.125000</td>\n",
       "      <td>0.010000</td>\n",
       "    </tr>\n",
       "    <tr>\n",
       "      <td>25%</td>\n",
       "      <td>-2.400000</td>\n",
       "      <td>0.546000</td>\n",
       "      <td>4.770000</td>\n",
       "      <td>3.750000</td>\n",
       "      <td>3.150000</td>\n",
       "      <td>0.200000</td>\n",
       "      <td>0.780000</td>\n",
       "    </tr>\n",
       "    <tr>\n",
       "      <td>50%</td>\n",
       "      <td>-2.300000</td>\n",
       "      <td>0.565000</td>\n",
       "      <td>4.780000</td>\n",
       "      <td>3.950000</td>\n",
       "      <td>3.150000</td>\n",
       "      <td>0.300000</td>\n",
       "      <td>3.090000</td>\n",
       "    </tr>\n",
       "    <tr>\n",
       "      <td>75%</td>\n",
       "      <td>-2.300000</td>\n",
       "      <td>0.574000</td>\n",
       "      <td>5.100000</td>\n",
       "      <td>4.170000</td>\n",
       "      <td>3.510000</td>\n",
       "      <td>0.375000</td>\n",
       "      <td>12.830000</td>\n",
       "    </tr>\n",
       "    <tr>\n",
       "      <td>max</td>\n",
       "      <td>0.000000</td>\n",
       "      <td>0.600000</td>\n",
       "      <td>5.140000</td>\n",
       "      <td>5.350000</td>\n",
       "      <td>3.640000</td>\n",
       "      <td>0.450000</td>\n",
       "      <td>62.420000</td>\n",
       "    </tr>\n",
       "  </tbody>\n",
       "</table>\n",
       "</div>"
      ],
      "text/plain": [
       "             -2.3       0.568        4.78        3.99        3.17       0.125  \\\n",
       "count  307.000000  307.000000  307.000000  307.000000  307.000000  307.000000   \n",
       "mean    -2.382085    0.564124    4.788664    3.936645    3.206938    0.288029   \n",
       "std      1.515682    0.023327    0.253470    0.549080    0.248394    0.100678   \n",
       "min     -5.000000    0.530000    4.340000    2.810000    2.730000    0.125000   \n",
       "25%     -2.400000    0.546000    4.770000    3.750000    3.150000    0.200000   \n",
       "50%     -2.300000    0.565000    4.780000    3.950000    3.150000    0.300000   \n",
       "75%     -2.300000    0.574000    5.100000    4.170000    3.510000    0.375000   \n",
       "max      0.000000    0.600000    5.140000    5.350000    3.640000    0.450000   \n",
       "\n",
       "             0.11  \n",
       "count  307.000000  \n",
       "mean    10.529186  \n",
       "std     15.173594  \n",
       "min      0.010000  \n",
       "25%      0.780000  \n",
       "50%      3.090000  \n",
       "75%     12.830000  \n",
       "max     62.420000  "
      ]
     },
     "execution_count": 109,
     "metadata": {},
     "output_type": "execute_result"
    }
   ],
   "source": [
    "df.describe()"
   ]
  },
  {
   "cell_type": "code",
   "execution_count": 115,
   "metadata": {
    "id": "qeViQhJ6hLFK"
   },
   "outputs": [],
   "source": [
    "class LinearRegression:\n",
    "    def __init__(self, X, y, learningRate, tolerance, maxIteration, gd=False, gd_stochastic=False, reg_param_lambda=0,err_method='sse') -> None:\n",
    "        self.X = X\n",
    "        self.y = y\n",
    "        self.tolerance = tolerance\n",
    "        self.learningRate = learningRate\n",
    "        self.maxIteration = maxIteration\n",
    "        self.gd = gd\n",
    "        self.gd_stochastic = gd_stochastic\n",
    "        self.reg_param_lambda=reg_param_lambda\n",
    "        self.err_method=err_method\n",
    "\n",
    "    def trainTestSplit(self):\n",
    "        X_train, X_test, y_train, y_test = train_test_split(self.X, self.y,\n",
    "                                                          test_size = 0.3, random_state =0)\n",
    "\n",
    "        return X_train, X_test, y_train, y_test\n",
    "\n",
    "    def add_X0(self,X):       \n",
    "        return np.column_stack([np.ones([X.shape[0],1]), X])\n",
    "\n",
    "\n",
    "    def normalize(self,X):\n",
    "        mean = np.mean(X,0)\n",
    "        sd = np.std(X,0)\n",
    "        X_norm = (X-mean)/sd\n",
    "\n",
    "\n",
    "        X_norm = self.add_X0(X_norm)\n",
    "        return X_norm, mean, sd\n",
    "\n",
    "\n",
    "    def normalizeTestData(self, X, trainMean, trainSd):\n",
    "        X_norm = (X- trainMean)/trainSd\n",
    "        X_norm = self.add_X0(X_norm)\n",
    "        return X_norm\n",
    "\n",
    "    def rank(self, X, eps = 1e-12):\n",
    "        u, s, vh = np.lialg.svd(X)\n",
    "        return len([X for X in s if abs(X) > eps])\n",
    "\n",
    "    \n",
    "\n",
    "    def checkMatrix(self, X):\n",
    "        X_rank = np.linalg.matrix_rank(X)\n",
    "        if X_rank == min (X.shape[0], X.shape[1]):\n",
    "            self.fullRank = True\n",
    "            print('Data is full rank')\n",
    "        else:\n",
    "            self.fullRank = False\n",
    "            print('data is not full rank')\n",
    "    def checkInvertibility(self,X):\n",
    "        if X.shape[0] < X.shape[1]:\n",
    "            self.lowRank = True\n",
    "            print('Data is low rank')\n",
    "        else:\n",
    "            self.lowRank = False\n",
    "            print('Data is not low rank')\n",
    "\n",
    "    def closedFromSolution(self, X, y):\n",
    "        w = np.linalg.inv(X.T.dot(X)).dot(X.T).dot(y)\n",
    "        w+= self.reg_param_lambda*math.sqrt(np.sum(w*w))\n",
    "        return w\n",
    "\n",
    "    def gradiantDescent(self, X, y):\n",
    "        errorSequences = []\n",
    "        last = float('inf')\n",
    "        for t in tqdm(range(self.maxIteration)):\n",
    "            self.w = self.w - (self.learningRate * self.costDerivative(X,y)) + self.reg_param_lambda*math.sqrt(np.sum(self.w*self.w))\n",
    "            if(self.err_method=='sse'):\n",
    "                cur = self.sse(X,y)\n",
    "            elif(self.err_method=='rmse'):\n",
    "                cur = self.rmse(X,y)\n",
    "            diff = last - cur\n",
    "            last = cur\n",
    "        \n",
    "            errorSequences.append(cur)\n",
    "        \n",
    "            if diff < self.tolerance and diff>0:\n",
    "                print('the model stopped; no further improvement')\n",
    "                print('final error: '+str(errorSequences[-1]))\n",
    "                plt.plot(errorSequences)\n",
    "                plt.show()\n",
    "                #print(self.w)\n",
    "                break\n",
    "            if(t==self.maxIteration-1):\n",
    "                print('final error: '+str(errorSequences[-1]))\n",
    "                plt.plot(errorSequences)\n",
    "                plt.show()\n",
    "                \n",
    "                \n",
    "                \n",
    "    def stochasticGradiantDescent(self, X, y):\n",
    "        XX=X.copy()\n",
    "        yy=y.copy()\n",
    "        errorSequences = []\n",
    "        last = float('inf')\n",
    "        rlst=[]\n",
    "        \n",
    "        for i in range(0,len(yy)):\n",
    "            rlst+=[i]\n",
    "        \n",
    "        for t in tqdm(range(self.maxIteration)):\n",
    "            r=random.choice(rlst)\n",
    "            X=np.array([XX[r]])\n",
    "            y=np.array([yy[r]])\n",
    "           \n",
    "            \n",
    "            self.w = self.w - (self.learningRate * self.costDerivative(X,y))+ self.reg_param_lambda*math.sqrt(np.sum(self.w*self.w))\n",
    "            if(self.err_method=='sse'):\n",
    "                cur = self.sse(XX,yy)\n",
    "            elif(self.err_method=='rmse'):\n",
    "                cur = self.rmse(XX,yy)\n",
    "            diff = last - cur\n",
    "            last = cur\n",
    "        \n",
    "            errorSequences.append(cur)\n",
    "        \n",
    "            if diff < self.tolerance and diff>0:\n",
    "                print('the model stopped; no further improvement')\n",
    "                print('final error: '+str(errorSequences[-1]))\n",
    "                plt.plot(errorSequences)\n",
    "                plt.show()\n",
    "                #print(self.w)\n",
    "                break\n",
    "            if(t==self.maxIteration-1):\n",
    "                print('final error: '+str(errorSequences[-1]))\n",
    "                plt.plot(errorSequences)\n",
    "                plt.show()\n",
    "                \n",
    "            \n",
    "    def sse(self, X, y):\n",
    "        y_hat=self.predict(X)\n",
    "        return ((y_hat-y)**2).sum()\n",
    "    \n",
    "    def rmse(self, X, y):\n",
    "        y_hat=self.predict(X)\n",
    "        return np.sqrt(((y_hat-y)**2).mean())\n",
    "            \n",
    "\n",
    "    def predict(self, X):\n",
    "        return X.dot(self.w)\n",
    "\n",
    "    def costFunction(self, X, y):\n",
    "        return self.sse(X, y)/2\n",
    "\n",
    "    def costDerivative(self,X,y):\n",
    "        y_hat = self.predict(X)\n",
    "        return(y_hat - y).dot(X)\n",
    "    \n",
    "    def fit(self):\n",
    "        self.X_train, self.X_test, self.y_train, self.y_test= self.trainTestSplit()\n",
    "    \n",
    "        self.X_train, self.mean, self.sd = self.normalize(self.X_train)\n",
    "        self.X_test = self.normalizeTestData(self.X_test, self.mean, self.sd)\n",
    "    \n",
    "        self.checkMatrix(self.X_train)\n",
    "        self.checkInvertibility(self.X_train)\n",
    "    \n",
    "        if self.fullRank and not self.lowRank and not self.gd:\n",
    "            print('Solving using closed form solution')\n",
    "            self.w=self.closedFromSolution(self.X_train, self.y_train)\n",
    "            print(self.w)\n",
    "        elif(self.gd_stochastic==False):\n",
    "            print('solving using gradient descent')\n",
    "            self.w = np.ones(self.X_train.shape[1], dtype = np.float64) * 0\n",
    "            #print(self.X_train)\n",
    "            self.gradiantDescent(self.X_train, self.y_train)\n",
    "            #self.stochasticGradiantDescent(self.X_train, self.y_train)\n",
    "            print(self.w)\n",
    "        else:\n",
    "            print('solving using stochastic gradient descent')\n",
    "            self.w = np.ones(self.X_train.shape[1], dtype = np.float64) * 0\n",
    "            #print(self.X_train)\n",
    "            self.stochasticGradiantDescent(self.X_train, self.y_train)\n",
    "            print(self.w)\n",
    "\n",
    "\n",
    "\n",
    "\n",
    "\n",
    "\n",
    "\n",
    "\n"
   ]
  },
  {
   "cell_type": "code",
   "execution_count": 118,
   "metadata": {
    "id": "0m-7mjbLdNLu"
   },
   "outputs": [],
   "source": [
    "regression = LinearRegression(df.values[:, 0:-1], df.values[:, -1],\n",
    "                              learningRate = 0.000001,\n",
    "                              tolerance = 0.0000001, \n",
    "                              maxIteration = 500000,\n",
    "                              gd=True,\n",
    "                              gd_stochastic=True,\n",
    "                              reg_param_lambda=0.0000001,\n",
    "                              err_method='rmse'                      \n",
    "                        )"
   ]
  },
  {
   "cell_type": "code",
   "execution_count": 119,
   "metadata": {},
   "outputs": [
    {
     "name": "stderr",
     "output_type": "stream",
     "text": [
      "  0%|          | 0/500000 [00:00<?, ?it/s]"
     ]
    },
    {
     "name": "stdout",
     "output_type": "stream",
     "text": [
      "Data is full rank\n",
      "Data is not low rank\n",
      "solving using stochastic gradient descent\n",
      "the model stopped; no further improvement\n",
      "final error: 18.993197632164517\n"
     ]
    },
    {
     "data": {
      "image/png": "[encoded data removed]",
      "text/plain": [
       "<Figure size 432x288 with 1 Axes>"
      ]
     },
     "metadata": {
      "needs_background": "light"
     },
     "output_type": "display_data"
    },
    {
     "name": "stderr",
     "output_type": "stream",
     "text": [
      "  0%|          | 0/500000 [00:00<?, ?it/s]"
     ]
    },
    {
     "name": "stdout",
     "output_type": "stream",
     "text": [
      "[ 5.37808738e-04 -3.69900197e-05 -3.04480548e-05 -1.71240121e-04\n",
      " -1.42018245e-04 -5.06875535e-05  6.70054637e-04]\n"
     ]
    },
    {
     "name": "stderr",
     "output_type": "stream",
     "text": [
      "\n"
     ]
    }
   ],
   "source": [
    "regression.fit()"
   ]
  },
  {
   "cell_type": "code",
   "execution_count": 103,
   "metadata": {},
   "outputs": [
    {
     "data": {
      "text/plain": [
       "4.653026165513044"
      ]
     },
     "execution_count": 103,
     "metadata": {},
     "output_type": "execute_result"
    }
   ],
   "source": [
    "regression.rmse(regression.X_test,regression.y_test)"
   ]
  },
  {
   "cell_type": "code",
   "execution_count": null,
   "metadata": {},
   "outputs": [],
   "source": [
    "the model stopped; no further improvement\n",
    "final error: 10.043405884492383\n",
    "\n",
    "[35.56425602 12.6226622   8.84461     5.68427763 -2.75484451  2.1026188\n",
    "  1.40598625  1.3254541   7.35860809]"
   ]
  }
 ],
 "metadata": {
  "colab": {
   "name": "ml assignment lab1 .ipynb",
   "provenance": [],
   "toc_visible": true
  },
  "kernelspec": {
   "display_name": "Python 3",
   "language": "python",
   "name": "python3"
  },
  "language_info": {
   "codemirror_mode": {
    "name": "ipython",
    "version": 3
   },
   "file_extension": ".py",
   "mimetype": "text/x-python",
   "name": "python",
   "nbconvert_exporter": "python",
   "pygments_lexer": "ipython3",
   "version": "3.7.4"
  }
 },
 "nbformat": 4,
 "nbformat_minor": 4
}
